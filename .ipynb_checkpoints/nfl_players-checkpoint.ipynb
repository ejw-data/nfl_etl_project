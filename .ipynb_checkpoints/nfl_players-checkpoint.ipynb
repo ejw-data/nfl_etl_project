{
 "cells": [
  {
   "cell_type": "code",
   "execution_count": 2,
   "metadata": {},
   "outputs": [],
   "source": [
    "import pandas as pd\n",
    "import requests\n"
   ]
  },
  {
   "cell_type": "code",
   "execution_count": 3,
   "metadata": {},
   "outputs": [],
   "source": [
    "#path='Resources/players_2013-12-12.csv'\n",
    "\n",
    "url=\"http://nflsavant.com/dump/players_2013-12-12.csv\""
   ]
  },
  {
   "cell_type": "code",
   "execution_count": 4,
   "metadata": {},
   "outputs": [],
   "source": [
    "df = pd.read_csv(url)"
   ]
  },
  {
   "cell_type": "code",
   "execution_count": 6,
   "metadata": {},
   "outputs": [],
   "source": [
    "df2 = df[['name', 'first_name', 'last_name', 'college', 'position', 'height', 'weight', 'draft_team', 'draft_round', 'year_start', 'year_end']]"
   ]
  },
  {
   "cell_type": "code",
   "execution_count": 8,
   "metadata": {},
   "outputs": [
    {
     "data": {
      "text/html": [
       "<div>\n",
       "<style scoped>\n",
       "    .dataframe tbody tr th:only-of-type {\n",
       "        vertical-align: middle;\n",
       "    }\n",
       "\n",
       "    .dataframe tbody tr th {\n",
       "        vertical-align: top;\n",
       "    }\n",
       "\n",
       "    .dataframe thead th {\n",
       "        text-align: right;\n",
       "    }\n",
       "</style>\n",
       "<table border=\"1\" class=\"dataframe\">\n",
       "  <thead>\n",
       "    <tr style=\"text-align: right;\">\n",
       "      <th></th>\n",
       "      <th>name</th>\n",
       "      <th>first_name</th>\n",
       "      <th>last_name</th>\n",
       "      <th>college</th>\n",
       "      <th>position</th>\n",
       "      <th>height</th>\n",
       "      <th>weight</th>\n",
       "      <th>draft_team</th>\n",
       "      <th>draft_round</th>\n",
       "      <th>year_start</th>\n",
       "      <th>year_end</th>\n",
       "    </tr>\n",
       "  </thead>\n",
       "  <tbody>\n",
       "    <tr>\n",
       "      <td>0</td>\n",
       "      <td>Isaako Aaitui</td>\n",
       "      <td>Isaako</td>\n",
       "      <td>Aaitui</td>\n",
       "      <td>NaN</td>\n",
       "      <td>NT</td>\n",
       "      <td>4-Jun</td>\n",
       "      <td>315.0</td>\n",
       "      <td>NaN</td>\n",
       "      <td>NaN</td>\n",
       "      <td>2013</td>\n",
       "      <td>2013</td>\n",
       "    </tr>\n",
       "    <tr>\n",
       "      <td>1</td>\n",
       "      <td>Faye Abbott</td>\n",
       "      <td>Faye</td>\n",
       "      <td>Abbott</td>\n",
       "      <td>Syracuse</td>\n",
       "      <td>BB-FB-TB-QB-WB-</td>\n",
       "      <td>8-May</td>\n",
       "      <td>182.0</td>\n",
       "      <td>NaN</td>\n",
       "      <td>NaN</td>\n",
       "      <td>1921</td>\n",
       "      <td>1929</td>\n",
       "    </tr>\n",
       "    <tr>\n",
       "      <td>2</td>\n",
       "      <td>Vince Abbott</td>\n",
       "      <td>Vince</td>\n",
       "      <td>Abbott</td>\n",
       "      <td>Washington</td>\n",
       "      <td>K</td>\n",
       "      <td>11-May</td>\n",
       "      <td>207.0</td>\n",
       "      <td>NaN</td>\n",
       "      <td>NaN</td>\n",
       "      <td>1921</td>\n",
       "      <td>1929</td>\n",
       "    </tr>\n",
       "    <tr>\n",
       "      <td>3</td>\n",
       "      <td>Duke Abbruzzi</td>\n",
       "      <td>Duke</td>\n",
       "      <td>Abbruzzi</td>\n",
       "      <td>Rhode Island</td>\n",
       "      <td>HB-DB</td>\n",
       "      <td>10-May</td>\n",
       "      <td>175.0</td>\n",
       "      <td>NaN</td>\n",
       "      <td>NaN</td>\n",
       "      <td>1921</td>\n",
       "      <td>1929</td>\n",
       "    </tr>\n",
       "    <tr>\n",
       "      <td>4</td>\n",
       "      <td>Karim Abdul-Jabbar</td>\n",
       "      <td>Karim</td>\n",
       "      <td>Abdul-Jabbar</td>\n",
       "      <td>UCLA</td>\n",
       "      <td>RB</td>\n",
       "      <td>10-May</td>\n",
       "      <td>194.0</td>\n",
       "      <td>Miami Dolphins</td>\n",
       "      <td>3rd</td>\n",
       "      <td>1996</td>\n",
       "      <td>2000</td>\n",
       "    </tr>\n",
       "    <tr>\n",
       "      <td>...</td>\n",
       "      <td>...</td>\n",
       "      <td>...</td>\n",
       "      <td>...</td>\n",
       "      <td>...</td>\n",
       "      <td>...</td>\n",
       "      <td>...</td>\n",
       "      <td>...</td>\n",
       "      <td>...</td>\n",
       "      <td>...</td>\n",
       "      <td>...</td>\n",
       "      <td>...</td>\n",
       "    </tr>\n",
       "    <tr>\n",
       "      <td>23728</td>\n",
       "      <td>Markus Zusevics</td>\n",
       "      <td>Markus</td>\n",
       "      <td>Zusevics</td>\n",
       "      <td>Iowa</td>\n",
       "      <td>OL</td>\n",
       "      <td>5-Jun</td>\n",
       "      <td>300.0</td>\n",
       "      <td>NaN</td>\n",
       "      <td>NaN</td>\n",
       "      <td>2012</td>\n",
       "      <td>2013</td>\n",
       "    </tr>\n",
       "    <tr>\n",
       "      <td>23729</td>\n",
       "      <td>Jeremy Zuttah</td>\n",
       "      <td>Jeremy</td>\n",
       "      <td>Zuttah</td>\n",
       "      <td>Rutgers</td>\n",
       "      <td>G</td>\n",
       "      <td>4-Jun</td>\n",
       "      <td>303.0</td>\n",
       "      <td>Tampa Bay Buccaneers</td>\n",
       "      <td>3rd</td>\n",
       "      <td>2008</td>\n",
       "      <td>2013</td>\n",
       "    </tr>\n",
       "    <tr>\n",
       "      <td>23730</td>\n",
       "      <td>Merle Zuver</td>\n",
       "      <td>Merle</td>\n",
       "      <td>Zuver</td>\n",
       "      <td>Nebraska</td>\n",
       "      <td>G-C</td>\n",
       "      <td>1-Jun</td>\n",
       "      <td>198.0</td>\n",
       "      <td>NaN</td>\n",
       "      <td>NaN</td>\n",
       "      <td>1930</td>\n",
       "      <td>1930</td>\n",
       "    </tr>\n",
       "    <tr>\n",
       "      <td>23731</td>\n",
       "      <td>Tony Zuzzio</td>\n",
       "      <td>Tony</td>\n",
       "      <td>Zuzzio</td>\n",
       "      <td>Muhlenberg</td>\n",
       "      <td>G</td>\n",
       "      <td>11-May</td>\n",
       "      <td>210.0</td>\n",
       "      <td>NaN</td>\n",
       "      <td>NaN</td>\n",
       "      <td>1942</td>\n",
       "      <td>1942</td>\n",
       "    </tr>\n",
       "    <tr>\n",
       "      <td>23732</td>\n",
       "      <td>Jim Zyntell</td>\n",
       "      <td>Jim</td>\n",
       "      <td>Zyntell</td>\n",
       "      <td>Holy Cross</td>\n",
       "      <td>G</td>\n",
       "      <td>1-Jun</td>\n",
       "      <td>200.0</td>\n",
       "      <td>NaN</td>\n",
       "      <td>NaN</td>\n",
       "      <td>1933</td>\n",
       "      <td>1935</td>\n",
       "    </tr>\n",
       "  </tbody>\n",
       "</table>\n",
       "<p>23733 rows × 11 columns</p>\n",
       "</div>"
      ],
      "text/plain": [
       "                     name first_name     last_name       college  \\\n",
       "0           Isaako Aaitui     Isaako        Aaitui           NaN   \n",
       "1             Faye Abbott       Faye        Abbott      Syracuse   \n",
       "2            Vince Abbott      Vince        Abbott    Washington   \n",
       "3           Duke Abbruzzi       Duke      Abbruzzi  Rhode Island   \n",
       "4      Karim Abdul-Jabbar      Karim  Abdul-Jabbar          UCLA   \n",
       "...                   ...        ...           ...           ...   \n",
       "23728     Markus Zusevics     Markus      Zusevics          Iowa   \n",
       "23729       Jeremy Zuttah     Jeremy        Zuttah       Rutgers   \n",
       "23730         Merle Zuver      Merle         Zuver      Nebraska   \n",
       "23731         Tony Zuzzio       Tony        Zuzzio    Muhlenberg   \n",
       "23732         Jim Zyntell        Jim       Zyntell    Holy Cross   \n",
       "\n",
       "              position  height  weight            draft_team draft_round  \\\n",
       "0                   NT   4-Jun   315.0                   NaN         NaN   \n",
       "1      BB-FB-TB-QB-WB-   8-May   182.0                   NaN         NaN   \n",
       "2                    K  11-May   207.0                   NaN         NaN   \n",
       "3                HB-DB  10-May   175.0                   NaN         NaN   \n",
       "4                   RB  10-May   194.0        Miami Dolphins         3rd   \n",
       "...                ...     ...     ...                   ...         ...   \n",
       "23728               OL   5-Jun   300.0                   NaN         NaN   \n",
       "23729                G   4-Jun   303.0  Tampa Bay Buccaneers         3rd   \n",
       "23730              G-C   1-Jun   198.0                   NaN         NaN   \n",
       "23731                G  11-May   210.0                   NaN         NaN   \n",
       "23732                G   1-Jun   200.0                   NaN         NaN   \n",
       "\n",
       "       year_start  year_end  \n",
       "0            2013      2013  \n",
       "1            1921      1929  \n",
       "2            1921      1929  \n",
       "3            1921      1929  \n",
       "4            1996      2000  \n",
       "...           ...       ...  \n",
       "23728        2012      2013  \n",
       "23729        2008      2013  \n",
       "23730        1930      1930  \n",
       "23731        1942      1942  \n",
       "23732        1933      1935  \n",
       "\n",
       "[23733 rows x 11 columns]"
      ]
     },
     "execution_count": 8,
     "metadata": {},
     "output_type": "execute_result"
    }
   ],
   "source": [
    "df2"
   ]
  },
  {
   "cell_type": "code",
   "execution_count": 9,
   "metadata": {},
   "outputs": [
    {
     "data": {
      "text/plain": [
       "Ed Smith         5\n",
       "George Wilson    4\n",
       "Jeff Smith       4\n",
       "Jim Miller       4\n",
       "Joe Williams     4\n",
       "                ..\n",
       "Toimi Jarvi      1\n",
       "Brenden Stai     1\n",
       "Rufus Deal       1\n",
       "Keith Zinger     1\n",
       "Mark Dusbabek    1\n",
       "Name: name, Length: 23001, dtype: int64"
      ]
     },
     "execution_count": 9,
     "metadata": {},
     "output_type": "execute_result"
    }
   ],
   "source": [
    "df2['name'].value_counts()"
   ]
  },
  {
   "cell_type": "code",
   "execution_count": 10,
   "metadata": {},
   "outputs": [
    {
     "data": {
      "text/plain": [
       "23001"
      ]
     },
     "execution_count": 10,
     "metadata": {},
     "output_type": "execute_result"
    }
   ],
   "source": [
    "len(df2['name'].unique())"
   ]
  },
  {
   "cell_type": "code",
   "execution_count": 11,
   "metadata": {},
   "outputs": [
    {
     "data": {
      "text/plain": [
       "23733"
      ]
     },
     "execution_count": 11,
     "metadata": {},
     "output_type": "execute_result"
    }
   ],
   "source": [
    "len(df2['name'])"
   ]
  },
  {
   "cell_type": "code",
   "execution_count": 12,
   "metadata": {},
   "outputs": [
    {
     "data": {
      "text/plain": [
       "name            object\n",
       "first_name      object\n",
       "last_name       object\n",
       "college         object\n",
       "position        object\n",
       "height          object\n",
       "weight         float64\n",
       "draft_team      object\n",
       "draft_round     object\n",
       "year_start       int64\n",
       "year_end         int64\n",
       "dtype: object"
      ]
     },
     "execution_count": 12,
     "metadata": {},
     "output_type": "execute_result"
    }
   ],
   "source": [
    "df2.dtypes"
   ]
  },
  {
   "cell_type": "code",
   "execution_count": 13,
   "metadata": {},
   "outputs": [],
   "source": [
    "df3 = df2[df2['year_start']>1985]"
   ]
  },
  {
   "cell_type": "code",
   "execution_count": 14,
   "metadata": {},
   "outputs": [
    {
     "data": {
      "text/plain": [
       "9547"
      ]
     },
     "execution_count": 14,
     "metadata": {},
     "output_type": "execute_result"
    }
   ],
   "source": [
    "len(df3['name'].unique())"
   ]
  },
  {
   "cell_type": "code",
   "execution_count": 15,
   "metadata": {},
   "outputs": [
    {
     "data": {
      "text/plain": [
       "9817"
      ]
     },
     "execution_count": 15,
     "metadata": {},
     "output_type": "execute_result"
    }
   ],
   "source": [
    "len(df3['name'])"
   ]
  },
  {
   "cell_type": "code",
   "execution_count": null,
   "metadata": {},
   "outputs": [],
   "source": []
  }
 ],
 "metadata": {
  "kernelspec": {
   "display_name": "Python 3",
   "language": "python",
   "name": "python3"
  },
  "language_info": {
   "codemirror_mode": {
    "name": "ipython",
    "version": 3
   },
   "file_extension": ".py",
   "mimetype": "text/x-python",
   "name": "python",
   "nbconvert_exporter": "python",
   "pygments_lexer": "ipython3",
   "version": "3.7.3"
  }
 },
 "nbformat": 4,
 "nbformat_minor": 2
}
